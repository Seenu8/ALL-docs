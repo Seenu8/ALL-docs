{
 "cells": [
  {
   "cell_type": "markdown",
   "metadata": {
    "application/vnd.databricks.v1+cell": {
     "cellMetadata": {},
     "inputWidgets": {},
     "nuid": "55b16720-fdd0-4d2d-a1ca-ca910c161b25",
     "showTitle": false,
     "tableResultSettingsMap": {},
     "title": ""
    }
   },
   "source": [
    "csv -  Comma Separated Variable that's why we use sep=\",\" in options"
   ]
  },
  {
   "cell_type": "code",
   "execution_count": 0,
   "metadata": {
    "application/vnd.databricks.v1+cell": {
     "cellMetadata": {
      "byteLimit": 2048000,
      "rowLimit": 10000
     },
     "inputWidgets": {},
     "nuid": "27ce220a-e2e0-4fa7-9499-7353e2859acc",
     "showTitle": false,
     "tableResultSettingsMap": {},
     "title": ""
    }
   },
   "outputs": [
    {
     "output_type": "display_data",
     "data": {
      "text/html": [
       "<style scoped>\n",
       "  .table-result-container {\n",
       "    max-height: 300px;\n",
       "    overflow: auto;\n",
       "  }\n",
       "  table, th, td {\n",
       "    border: 1px solid black;\n",
       "    border-collapse: collapse;\n",
       "  }\n",
       "  th, td {\n",
       "    padding: 5px;\n",
       "  }\n",
       "  th {\n",
       "    text-align: left;\n",
       "  }\n",
       "</style><div class='table-result-container'><table class='table-result'><thead style='background-color: white'><tr><th>no</th><th>name</th><th>dept</th><th>mark</th></tr></thead><tbody><tr><td>1</td><td>seenu</td><td>ece</td><td>50</td></tr><tr><td>2</td><td>sarah</td><td>cse</td><td>50</td></tr><tr><td>3</td><td>sarvesh</td><td>it</td><td>50</td></tr><tr><td>4</td><td>vijay</td><td>ece</td><td>49</td></tr><tr><td>5</td><td>sakthi</td><td>cse</td><td>49</td></tr></tbody></table></div>"
      ]
     },
     "metadata": {
      "application/vnd.databricks.v1+output": {
       "addedWidgets": {},
       "aggData": [],
       "aggError": "",
       "aggOverflow": false,
       "aggSchema": [],
       "aggSeriesLimitReached": false,
       "aggType": "",
       "arguments": {},
       "columnCustomDisplayInfos": {},
       "data": [
        [
         1,
         "seenu",
         "ece",
         50
        ],
        [
         2,
         "sarah",
         "cse",
         50
        ],
        [
         3,
         "sarvesh",
         "it",
         50
        ],
        [
         4,
         "vijay",
         "ece",
         49
        ],
        [
         5,
         "sakthi",
         "cse",
         49
        ]
       ],
       "datasetInfos": [],
       "dbfsResultPath": null,
       "isJsonSchema": true,
       "metadata": {},
       "overflow": false,
       "plotOptions": {
        "customPlotOptions": {},
        "displayType": "table",
        "pivotAggregation": null,
        "pivotColumns": null,
        "xColumns": null,
        "yColumns": null
       },
       "removedWidgets": [],
       "schema": [
        {
         "metadata": "{}",
         "name": "no",
         "type": "\"integer\""
        },
        {
         "metadata": "{}",
         "name": "name",
         "type": "\"string\""
        },
        {
         "metadata": "{}",
         "name": "dept",
         "type": "\"string\""
        },
        {
         "metadata": "{}",
         "name": "mark",
         "type": "\"integer\""
        }
       ],
       "type": "table"
      }
     },
     "output_type": "display_data"
    }
   ],
   "source": [
    "df1=spark.read.format(\"csv\").options(inferSchema=\"True\",header=\"True\",sep=\",\").load(\"/practice/a/demo.csv\")\n",
    "display(df1)"
   ]
  },
  {
   "cell_type": "code",
   "execution_count": 0,
   "metadata": {
    "application/vnd.databricks.v1+cell": {
     "cellMetadata": {
      "byteLimit": 2048000,
      "rowLimit": 10000
     },
     "inputWidgets": {},
     "nuid": "b95b4441-5f3a-4688-8388-0d82e261426a",
     "showTitle": true,
     "tableResultSettingsMap": {},
     "title": "Emp Table"
    }
   },
   "outputs": [
    {
     "output_type": "display_data",
     "data": {
      "text/html": [
       "<style scoped>\n",
       "  .table-result-container {\n",
       "    max-height: 300px;\n",
       "    overflow: auto;\n",
       "  }\n",
       "  table, th, td {\n",
       "    border: 1px solid black;\n",
       "    border-collapse: collapse;\n",
       "  }\n",
       "  th, td {\n",
       "    padding: 5px;\n",
       "  }\n",
       "  th {\n",
       "    text-align: left;\n",
       "  }\n",
       "</style><div class='table-result-container'><table class='table-result'><thead style='background-color: white'><tr><th>id</th><th>name</th><th>age</th><th>dep_id</th></tr></thead><tbody><tr><td>1</td><td>seenu</td><td>24</td><td>11</td></tr><tr><td>2</td><td>veera</td><td>23</td><td>12</td></tr><tr><td>3</td><td>shiva</td><td>30</td><td>11</td></tr><tr><td>4</td><td>chandru</td><td>null</td><td>13</td></tr><tr><td>5</td><td>kavya</td><td>24</td><td>15</td></tr></tbody></table></div>"
      ]
     },
     "metadata": {
      "application/vnd.databricks.v1+output": {
       "addedWidgets": {},
       "aggData": [],
       "aggError": "",
       "aggOverflow": false,
       "aggSchema": [],
       "aggSeriesLimitReached": false,
       "aggType": "",
       "arguments": {},
       "columnCustomDisplayInfos": {},
       "data": [
        [
         1,
         "seenu",
         24,
         11
        ],
        [
         2,
         "veera",
         23,
         12
        ],
        [
         3,
         "shiva",
         30,
         11
        ],
        [
         4,
         "chandru",
         null,
         13
        ],
        [
         5,
         "kavya",
         24,
         15
        ]
       ],
       "datasetInfos": [],
       "dbfsResultPath": null,
       "isJsonSchema": true,
       "metadata": {},
       "overflow": false,
       "plotOptions": {
        "customPlotOptions": {},
        "displayType": "table",
        "pivotAggregation": null,
        "pivotColumns": null,
        "xColumns": null,
        "yColumns": null
       },
       "removedWidgets": [],
       "schema": [
        {
         "metadata": "{}",
         "name": "id",
         "type": "\"long\""
        },
        {
         "metadata": "{}",
         "name": "name",
         "type": "\"string\""
        },
        {
         "metadata": "{}",
         "name": "age",
         "type": "\"long\""
        },
        {
         "metadata": "{}",
         "name": "dep_id",
         "type": "\"long\""
        }
       ],
       "type": "table"
      }
     },
     "output_type": "display_data"
    }
   ],
   "source": [
    "emp=[(1,\"seenu\",24,11),(2,\"veera\",23,12),(3,\"shiva\",30,11),(4,\"chandru\",None,13),(5,\"kavya\",24,15)]\n",
    "ab=[\"id\",\"name\",\"age\",\"dep_id\"]\n",
    "df=spark.createDataFrame(data=emp,schema=ab)\n",
    "display(df)"
   ]
  },
  {
   "cell_type": "code",
   "execution_count": 0,
   "metadata": {
    "application/vnd.databricks.v1+cell": {
     "cellMetadata": {
      "byteLimit": 2048000,
      "rowLimit": 10000
     },
     "inputWidgets": {},
     "nuid": "76f810db-6d4b-484b-b6eb-8969f68bfd7a",
     "showTitle": false,
     "tableResultSettingsMap": {},
     "title": ""
    }
   },
   "outputs": [
    {
     "output_type": "display_data",
     "data": {
      "text/html": [
       "<style scoped>\n",
       "  .table-result-container {\n",
       "    max-height: 300px;\n",
       "    overflow: auto;\n",
       "  }\n",
       "  table, th, td {\n",
       "    border: 1px solid black;\n",
       "    border-collapse: collapse;\n",
       "  }\n",
       "  th, td {\n",
       "    padding: 5px;\n",
       "  }\n",
       "  th {\n",
       "    text-align: left;\n",
       "  }\n",
       "</style><div class='table-result-container'><table class='table-result'><thead style='background-color: white'><tr><th>id</th><th>name</th><th>age</th><th>dep_id</th></tr></thead><tbody><tr><td>4</td><td>chandru</td><td>null</td><td>13</td></tr></tbody></table></div>"
      ]
     },
     "metadata": {
      "application/vnd.databricks.v1+output": {
       "addedWidgets": {},
       "aggData": [],
       "aggError": "",
       "aggOverflow": false,
       "aggSchema": [],
       "aggSeriesLimitReached": false,
       "aggType": "",
       "arguments": {},
       "columnCustomDisplayInfos": {},
       "data": [
        [
         4,
         "chandru",
         null,
         13
        ]
       ],
       "datasetInfos": [],
       "dbfsResultPath": null,
       "isJsonSchema": true,
       "metadata": {},
       "overflow": false,
       "plotOptions": {
        "customPlotOptions": {},
        "displayType": "table",
        "pivotAggregation": null,
        "pivotColumns": null,
        "xColumns": null,
        "yColumns": null
       },
       "removedWidgets": [],
       "schema": [
        {
         "metadata": "{}",
         "name": "id",
         "type": "\"long\""
        },
        {
         "metadata": "{}",
         "name": "name",
         "type": "\"string\""
        },
        {
         "metadata": "{}",
         "name": "age",
         "type": "\"long\""
        },
        {
         "metadata": "{}",
         "name": "dep_id",
         "type": "\"long\""
        }
       ],
       "type": "table"
      }
     },
     "output_type": "display_data"
    }
   ],
   "source": [
    "display(df.filter(~df.dep_id.isin(11,12)))"
   ]
  },
  {
   "cell_type": "code",
   "execution_count": 0,
   "metadata": {
    "application/vnd.databricks.v1+cell": {
     "cellMetadata": {
      "byteLimit": 2048000,
      "rowLimit": 10000
     },
     "inputWidgets": {},
     "nuid": "59669a96-6c81-45a0-8f6e-8b6738aadbea",
     "showTitle": true,
     "tableResultSettingsMap": {},
     "title": "Filter"
    }
   },
   "outputs": [
    {
     "output_type": "display_data",
     "data": {
      "text/html": [
       "<style scoped>\n",
       "  .table-result-container {\n",
       "    max-height: 300px;\n",
       "    overflow: auto;\n",
       "  }\n",
       "  table, th, td {\n",
       "    border: 1px solid black;\n",
       "    border-collapse: collapse;\n",
       "  }\n",
       "  th, td {\n",
       "    padding: 5px;\n",
       "  }\n",
       "  th {\n",
       "    text-align: left;\n",
       "  }\n",
       "</style><div class='table-result-container'><table class='table-result'><thead style='background-color: white'><tr><th>id</th><th>name</th><th>age</th><th>dep_id</th></tr></thead><tbody><tr><td>1</td><td>seenu</td><td>24</td><td>11</td></tr><tr><td>2</td><td>veera</td><td>23</td><td>12</td></tr></tbody></table></div>"
      ]
     },
     "metadata": {
      "application/vnd.databricks.v1+output": {
       "addedWidgets": {},
       "aggData": [],
       "aggError": "",
       "aggOverflow": false,
       "aggSchema": [],
       "aggSeriesLimitReached": false,
       "aggType": "",
       "arguments": {},
       "columnCustomDisplayInfos": {},
       "data": [
        [
         1,
         "seenu",
         24,
         11
        ],
        [
         2,
         "veera",
         23,
         12
        ]
       ],
       "datasetInfos": [],
       "dbfsResultPath": null,
       "isJsonSchema": true,
       "metadata": {},
       "overflow": false,
       "plotOptions": {
        "customPlotOptions": {},
        "displayType": "table",
        "pivotAggregation": null,
        "pivotColumns": null,
        "xColumns": null,
        "yColumns": null
       },
       "removedWidgets": [],
       "schema": [
        {
         "metadata": "{}",
         "name": "id",
         "type": "\"long\""
        },
        {
         "metadata": "{}",
         "name": "name",
         "type": "\"string\""
        },
        {
         "metadata": "{}",
         "name": "age",
         "type": "\"long\""
        },
        {
         "metadata": "{}",
         "name": "dep_id",
         "type": "\"long\""
        }
       ],
       "type": "table"
      }
     },
     "output_type": "display_data"
    }
   ],
   "source": [
    "# df1=df.filter(df.id==1)\n",
    "# df1=df.filter(df.name.like(\"s%\"))\n",
    "# df1=df.filter(df.name.startswith(\"s\"))\n",
    "# df1=df.filter(df.name.endswith(\"u\"))\n",
    "# df1=df.filter(df.name.contains(\"ee\"))\n",
    "# df1=df.filter((df.name.startswith(\"s\")) & (df.age==24))\n",
    "# df1=df.filter((df.name.startswith(\"s\") | df.name.startswith(\"v\")))\n",
    "# df1=df.filter(df.age.isNull())\n",
    "# df1=df.filter(df.age.isNotNull())\n",
    "df1=df.filter(df.name.isin(\"seenu\",\"veera\"))\n",
    "display(df1)"
   ]
  },
  {
   "cell_type": "code",
   "execution_count": 0,
   "metadata": {
    "application/vnd.databricks.v1+cell": {
     "cellMetadata": {
      "byteLimit": 2048000,
      "rowLimit": 10000
     },
     "inputWidgets": {},
     "nuid": "cd97777c-d342-46bd-b9f0-7cce93e40338",
     "showTitle": true,
     "tableResultSettingsMap": {},
     "title": "lit and concat (Add column)"
    }
   },
   "outputs": [
    {
     "output_type": "display_data",
     "data": {
      "text/html": [
       "<style scoped>\n",
       "  .table-result-container {\n",
       "    max-height: 300px;\n",
       "    overflow: auto;\n",
       "  }\n",
       "  table, th, td {\n",
       "    border: 1px solid black;\n",
       "    border-collapse: collapse;\n",
       "  }\n",
       "  th, td {\n",
       "    padding: 5px;\n",
       "  }\n",
       "  th {\n",
       "    text-align: left;\n",
       "  }\n",
       "</style><div class='table-result-container'><table class='table-result'><thead style='background-color: white'><tr><th>id</th><th>name</th><th>age</th><th>dep_id</th><th>abc</th></tr></thead><tbody><tr><td>1</td><td>seenu</td><td>24</td><td>11</td><td>seenu 1</td></tr><tr><td>2</td><td>veera</td><td>23</td><td>12</td><td>veera 2</td></tr><tr><td>3</td><td>shiva</td><td>30</td><td>11</td><td>shiva 3</td></tr><tr><td>4</td><td>chandru</td><td>null</td><td>13</td><td>chandru 4</td></tr></tbody></table></div>"
      ]
     },
     "metadata": {
      "application/vnd.databricks.v1+output": {
       "addedWidgets": {},
       "aggData": [],
       "aggError": "",
       "aggOverflow": false,
       "aggSchema": [],
       "aggSeriesLimitReached": false,
       "aggType": "",
       "arguments": {},
       "columnCustomDisplayInfos": {},
       "data": [
        [
         1,
         "seenu",
         24,
         11,
         "seenu 1"
        ],
        [
         2,
         "veera",
         23,
         12,
         "veera 2"
        ],
        [
         3,
         "shiva",
         30,
         11,
         "shiva 3"
        ],
        [
         4,
         "chandru",
         null,
         13,
         "chandru 4"
        ]
       ],
       "datasetInfos": [],
       "dbfsResultPath": null,
       "isJsonSchema": true,
       "metadata": {},
       "overflow": false,
       "plotOptions": {
        "customPlotOptions": {},
        "displayType": "table",
        "pivotAggregation": null,
        "pivotColumns": null,
        "xColumns": null,
        "yColumns": null
       },
       "removedWidgets": [],
       "schema": [
        {
         "metadata": "{}",
         "name": "id",
         "type": "\"long\""
        },
        {
         "metadata": "{}",
         "name": "name",
         "type": "\"string\""
        },
        {
         "metadata": "{}",
         "name": "age",
         "type": "\"long\""
        },
        {
         "metadata": "{}",
         "name": "dep_id",
         "type": "\"long\""
        },
        {
         "metadata": "{}",
         "name": "abc",
         "type": "\"string\""
        }
       ],
       "type": "table"
      }
     },
     "output_type": "display_data"
    }
   ],
   "source": [
    "from pyspark.sql import functions as f\n",
    "# df.withColumn(\"abc\",f.lit(df.age+5)).display()\n",
    "df2=df.withColumn(\"abc\",f.concat(df.name,f.lit(\" \"),df.id))\n",
    "display(df2)"
   ]
  },
  {
   "cell_type": "code",
   "execution_count": 0,
   "metadata": {
    "application/vnd.databricks.v1+cell": {
     "cellMetadata": {
      "byteLimit": 2048000,
      "rowLimit": 10000
     },
     "inputWidgets": {},
     "nuid": "909916d8-d6fb-4a2b-906f-de6ef71c1fe1",
     "showTitle": true,
     "tableResultSettingsMap": {},
     "title": "Rename and drop column"
    }
   },
   "outputs": [
    {
     "output_type": "display_data",
     "data": {
      "text/html": [
       "<style scoped>\n",
       "  .table-result-container {\n",
       "    max-height: 300px;\n",
       "    overflow: auto;\n",
       "  }\n",
       "  table, th, td {\n",
       "    border: 1px solid black;\n",
       "    border-collapse: collapse;\n",
       "  }\n",
       "  th, td {\n",
       "    padding: 5px;\n",
       "  }\n",
       "  th {\n",
       "    text-align: left;\n",
       "  }\n",
       "</style><div class='table-result-container'><table class='table-result'><thead style='background-color: white'><tr><th>id</th><th>name</th><th>age</th><th>dep_id</th></tr></thead><tbody><tr><td>1</td><td>seenu</td><td>24</td><td>11</td></tr><tr><td>2</td><td>veera</td><td>23</td><td>12</td></tr><tr><td>3</td><td>shiva</td><td>30</td><td>11</td></tr><tr><td>4</td><td>chandru</td><td>null</td><td>13</td></tr></tbody></table></div>"
      ]
     },
     "metadata": {
      "application/vnd.databricks.v1+output": {
       "addedWidgets": {},
       "aggData": [],
       "aggError": "",
       "aggOverflow": false,
       "aggSchema": [],
       "aggSeriesLimitReached": false,
       "aggType": "",
       "arguments": {},
       "columnCustomDisplayInfos": {},
       "data": [
        [
         1,
         "seenu",
         24,
         11
        ],
        [
         2,
         "veera",
         23,
         12
        ],
        [
         3,
         "shiva",
         30,
         11
        ],
        [
         4,
         "chandru",
         null,
         13
        ]
       ],
       "datasetInfos": [],
       "dbfsResultPath": null,
       "isJsonSchema": true,
       "metadata": {},
       "overflow": false,
       "plotOptions": {
        "customPlotOptions": {},
        "displayType": "table",
        "pivotAggregation": null,
        "pivotColumns": null,
        "xColumns": null,
        "yColumns": null
       },
       "removedWidgets": [],
       "schema": [
        {
         "metadata": "{}",
         "name": "id",
         "type": "\"long\""
        },
        {
         "metadata": "{}",
         "name": "name",
         "type": "\"string\""
        },
        {
         "metadata": "{}",
         "name": "age",
         "type": "\"long\""
        },
        {
         "metadata": "{}",
         "name": "dep_id",
         "type": "\"long\""
        }
       ],
       "type": "table"
      }
     },
     "output_type": "display_data"
    }
   ],
   "source": [
    "# df3=df2.withColumnRenamed(\"abc\",\"aaa\")\n",
    "df3=df.drop(\"aaa\")\n",
    "display(df3)"
   ]
  },
  {
   "cell_type": "code",
   "execution_count": 0,
   "metadata": {
    "application/vnd.databricks.v1+cell": {
     "cellMetadata": {
      "byteLimit": 2048000,
      "rowLimit": 10000
     },
     "inputWidgets": {},
     "nuid": "c3c1e1c3-a172-4bda-aeb2-1f76d2c6338c",
     "showTitle": true,
     "tableResultSettingsMap": {},
     "title": "Dept Table"
    }
   },
   "outputs": [
    {
     "output_type": "display_data",
     "data": {
      "text/html": [
       "<style scoped>\n",
       "  .table-result-container {\n",
       "    max-height: 300px;\n",
       "    overflow: auto;\n",
       "  }\n",
       "  table, th, td {\n",
       "    border: 1px solid black;\n",
       "    border-collapse: collapse;\n",
       "  }\n",
       "  th, td {\n",
       "    padding: 5px;\n",
       "  }\n",
       "  th {\n",
       "    text-align: left;\n",
       "  }\n",
       "</style><div class='table-result-container'><table class='table-result'><thead style='background-color: white'><tr><th>dept</th><th>dept_id</th></tr></thead><tbody><tr><td>HR</td><td>11</td></tr><tr><td>Manager</td><td>12</td></tr><tr><td>sales</td><td>13</td></tr><tr><td>secutiry</td><td>14</td></tr></tbody></table></div>"
      ]
     },
     "metadata": {
      "application/vnd.databricks.v1+output": {
       "addedWidgets": {},
       "aggData": [],
       "aggError": "",
       "aggOverflow": false,
       "aggSchema": [],
       "aggSeriesLimitReached": false,
       "aggType": "",
       "arguments": {},
       "columnCustomDisplayInfos": {},
       "data": [
        [
         "HR",
         11
        ],
        [
         "Manager",
         12
        ],
        [
         "sales",
         13
        ],
        [
         "secutiry",
         14
        ]
       ],
       "datasetInfos": [],
       "dbfsResultPath": null,
       "isJsonSchema": true,
       "metadata": {},
       "overflow": false,
       "plotOptions": {
        "customPlotOptions": {},
        "displayType": "table",
        "pivotAggregation": null,
        "pivotColumns": null,
        "xColumns": null,
        "yColumns": null
       },
       "removedWidgets": [],
       "schema": [
        {
         "metadata": "{}",
         "name": "dept",
         "type": "\"string\""
        },
        {
         "metadata": "{}",
         "name": "dept_id",
         "type": "\"long\""
        }
       ],
       "type": "table"
      }
     },
     "output_type": "display_data"
    }
   ],
   "source": [
    "dept=[(\"HR\",11),(\"Manager\",12),(\"sales\",13),(\"secutiry\",14)]\n",
    "sch=[\"dept\",\"dept_id\"]\n",
    "df1=spark.createDataFrame(data=dept,schema=sch)\n",
    "display(df1)"
   ]
  },
  {
   "cell_type": "code",
   "execution_count": 0,
   "metadata": {
    "application/vnd.databricks.v1+cell": {
     "cellMetadata": {
      "byteLimit": 2048000,
      "rowLimit": 10000
     },
     "inputWidgets": {},
     "nuid": "b80457e9-9510-4310-b319-c7ef822806e5",
     "showTitle": true,
     "tableResultSettingsMap": {},
     "title": "Join"
    }
   },
   "outputs": [
    {
     "output_type": "display_data",
     "data": {
      "text/html": [
       "<style scoped>\n",
       "  .table-result-container {\n",
       "    max-height: 300px;\n",
       "    overflow: auto;\n",
       "  }\n",
       "  table, th, td {\n",
       "    border: 1px solid black;\n",
       "    border-collapse: collapse;\n",
       "  }\n",
       "  th, td {\n",
       "    padding: 5px;\n",
       "  }\n",
       "  th {\n",
       "    text-align: left;\n",
       "  }\n",
       "</style><div class='table-result-container'><table class='table-result'><thead style='background-color: white'><tr><th>id</th><th>name</th><th>age</th><th>dep_id</th></tr></thead><tbody><tr><td>5</td><td>kavya</td><td>24</td><td>15</td></tr></tbody></table></div>"
      ]
     },
     "metadata": {
      "application/vnd.databricks.v1+output": {
       "addedWidgets": {},
       "aggData": [],
       "aggError": "",
       "aggOverflow": false,
       "aggSchema": [],
       "aggSeriesLimitReached": false,
       "aggType": "",
       "arguments": {},
       "columnCustomDisplayInfos": {},
       "data": [
        [
         5,
         "kavya",
         24,
         15
        ]
       ],
       "datasetInfos": [],
       "dbfsResultPath": null,
       "isJsonSchema": true,
       "metadata": {},
       "overflow": false,
       "plotOptions": {
        "customPlotOptions": {},
        "displayType": "table",
        "pivotAggregation": null,
        "pivotColumns": null,
        "xColumns": null,
        "yColumns": null
       },
       "removedWidgets": [],
       "schema": [
        {
         "metadata": "{}",
         "name": "id",
         "type": "\"long\""
        },
        {
         "metadata": "{}",
         "name": "name",
         "type": "\"string\""
        },
        {
         "metadata": "{}",
         "name": "age",
         "type": "\"long\""
        },
        {
         "metadata": "{}",
         "name": "dep_id",
         "type": "\"long\""
        }
       ],
       "type": "table"
      }
     },
     "output_type": "display_data"
    },
    {
     "output_type": "display_data",
     "data": {
      "text/html": [
       "<style scoped>\n",
       "  .table-result-container {\n",
       "    max-height: 300px;\n",
       "    overflow: auto;\n",
       "  }\n",
       "  table, th, td {\n",
       "    border: 1px solid black;\n",
       "    border-collapse: collapse;\n",
       "  }\n",
       "  th, td {\n",
       "    padding: 5px;\n",
       "  }\n",
       "  th {\n",
       "    text-align: left;\n",
       "  }\n",
       "</style><div class='table-result-container'><table class='table-result'><thead style='background-color: white'><tr><th>dept</th><th>dept_id</th></tr></thead><tbody><tr><td>secutiry</td><td>14</td></tr></tbody></table></div>"
      ]
     },
     "metadata": {
      "application/vnd.databricks.v1+output": {
       "addedWidgets": {},
       "aggData": [],
       "aggError": "",
       "aggOverflow": false,
       "aggSchema": [],
       "aggSeriesLimitReached": false,
       "aggType": "",
       "arguments": {},
       "columnCustomDisplayInfos": {},
       "data": [
        [
         "secutiry",
         14
        ]
       ],
       "datasetInfos": [],
       "dbfsResultPath": null,
       "isJsonSchema": true,
       "metadata": {},
       "overflow": false,
       "plotOptions": {
        "customPlotOptions": {},
        "displayType": "table",
        "pivotAggregation": null,
        "pivotColumns": null,
        "xColumns": null,
        "yColumns": null
       },
       "removedWidgets": [],
       "schema": [
        {
         "metadata": "{}",
         "name": "dept",
         "type": "\"string\""
        },
        {
         "metadata": "{}",
         "name": "dept_id",
         "type": "\"long\""
        }
       ],
       "type": "table"
      }
     },
     "output_type": "display_data"
    }
   ],
   "source": [
    "# df.join(df1,df.dep_id==df1.dept_id,\"inner\").display()\n",
    "# df.join(df1,df.dep_id==df1.dept_id,\"outer\").display()\n",
    "# df.join(df1,df.dep_id==df1.dept_id,\"left\").display()\n",
    "# df.join(df1,df.dep_id==df1.dept_id,\"right\").display()\n",
    "# df.join(df1,df.dep_id==df1.dept_id,\"semi\").display()\n",
    "\n",
    "df.join(df1,df.dep_id==df1.dept_id,\"anti\").display() \n",
    "df1.join(df,df.dep_id==df1.dept_id,\"anti\").display()\n",
    "\n",
    "# df.join(df1,df.dep_id==df1.dept_id,\"cross\").display()\n",
    "\n",
    "# same methods with differnt names\n",
    "# full,outer,full_outer,fullouter\n",
    "# semi,left_semi,leftsemi\n",
    "# anti,left_anti,leftanti\n",
    "# left,left_outer,leftouter\n",
    "# right,right_outer,rightouter"
   ]
  },
  {
   "cell_type": "code",
   "execution_count": 0,
   "metadata": {
    "application/vnd.databricks.v1+cell": {
     "cellMetadata": {
      "byteLimit": 2048000,
      "rowLimit": 10000
     },
     "inputWidgets": {},
     "nuid": "77515075-8c3f-4f3a-96b7-fbc5077ed20d",
     "showTitle": true,
     "tableResultSettingsMap": {},
     "title": "dbutils fs(file system)"
    }
   },
   "outputs": [
    {
     "output_type": "stream",
     "name": "stdout",
     "output_type": "stream",
     "text": [
      "Out[58]: True"
     ]
    }
   ],
   "source": [
    "# dbutils.fs.help()\n",
    "# dbutils.fs.head(\"/FileStore/tables/a.txt\")\n",
    "# dbutils.fs.ls(\"/FileStore/tables/a.txt\")\n",
    "# dbutils.fs.mkdirs(\"/abc/ab\")\n",
    "# dbutils.fs.cp(\"/FileStore/tables/a.txt\",\"/abc/ab/\")\n",
    "# dbutils.fs.mv(\"/FileStore/tables/a.txt\",\"/seenu/tables\")\n",
    "# dbutils.fs.put(\"/seenu/tables/b.txt\",\"Hi bro\")\n",
    "dbutils.fs.rm(\"/seenu/tables/b.txt\")"
   ]
  },
  {
   "cell_type": "code",
   "execution_count": 0,
   "metadata": {
    "application/vnd.databricks.v1+cell": {
     "cellMetadata": {
      "byteLimit": 2048000,
      "rowLimit": 10000
     },
     "inputWidgets": {},
     "nuid": "37783d96-1e6f-45d0-a55b-56d76e17f6bb",
     "showTitle": true,
     "tableResultSettingsMap": {},
     "title": "dbutils widgets"
    }
   },
   "outputs": [],
   "source": [
    "dbutils.widgets.text(\"name\",\"\")\n",
    "# dbutils.widgets.combobox(\"name1\",\"\",[str(i) for i in range(1,5)])\n",
    "# dbutils.widgets.dropdown(\"name2\",\"1\",[str(i) for i in range(1,5)])\n",
    "# dbutils.widgets.multiselect(\"name3\",\"1\",[str(i) for i in range(1,5)])\n",
    "# dbutils.widgets.remove(\"name3\")\n",
    "# dbutils.widgets.removeAll()\n",
    "# dbutils.widgets.get(\"name\")"
   ]
  },
  {
   "cell_type": "code",
   "execution_count": 0,
   "metadata": {
    "application/vnd.databricks.v1+cell": {
     "cellMetadata": {
      "byteLimit": 2048000,
      "rowLimit": 10000
     },
     "inputWidgets": {},
     "nuid": "aabe6cd2-5490-4850-bfa7-e18068ce6d37",
     "showTitle": true,
     "tableResultSettingsMap": {},
     "title": "Varients - (explode,explode_outer,posexplode,posexplode_outer)"
    }
   },
   "outputs": [
    {
     "output_type": "display_data",
     "data": {
      "text/html": [
       "<style scoped>\n",
       "  .table-result-container {\n",
       "    max-height: 300px;\n",
       "    overflow: auto;\n",
       "  }\n",
       "  table, th, td {\n",
       "    border: 1px solid black;\n",
       "    border-collapse: collapse;\n",
       "  }\n",
       "  th, td {\n",
       "    padding: 5px;\n",
       "  }\n",
       "  th {\n",
       "    text-align: left;\n",
       "  }\n",
       "</style><div class='table-result-container'><table class='table-result'><thead style='background-color: white'><tr><th>name</th><th>Appliance</th></tr></thead><tbody><tr><td>arun</td><td>List(TV, AC, Phone, Laptop)</td></tr><tr><td>babu</td><td>List(AC, TV, Phone)</td></tr><tr><td>chandru</td><td>List(AC, TV)</td></tr><tr><td>dinesh</td><td>null</td></tr></tbody></table></div>"
      ]
     },
     "metadata": {
      "application/vnd.databricks.v1+output": {
       "addedWidgets": {},
       "aggData": [],
       "aggError": "",
       "aggOverflow": false,
       "aggSchema": [],
       "aggSeriesLimitReached": false,
       "aggType": "",
       "arguments": {},
       "columnCustomDisplayInfos": {},
       "data": [
        [
         "arun",
         [
          "TV",
          "AC",
          "Phone",
          "Laptop"
         ]
        ],
        [
         "babu",
         [
          "AC",
          "TV",
          "Phone"
         ]
        ],
        [
         "chandru",
         [
          "AC",
          "TV"
         ]
        ],
        [
         "dinesh",
         null
        ]
       ],
       "datasetInfos": [],
       "dbfsResultPath": null,
       "isJsonSchema": true,
       "metadata": {},
       "overflow": false,
       "plotOptions": {
        "customPlotOptions": {},
        "displayType": "table",
        "pivotAggregation": null,
        "pivotColumns": null,
        "xColumns": null,
        "yColumns": null
       },
       "removedWidgets": [],
       "schema": [
        {
         "metadata": "{}",
         "name": "name",
         "type": "\"string\""
        },
        {
         "metadata": "{}",
         "name": "Appliance",
         "type": "{\"type\":\"array\",\"elementType\":\"string\",\"containsNull\":true}"
        }
       ],
       "type": "table"
      }
     },
     "output_type": "display_data"
    },
    {
     "output_type": "stream",
     "name": "stdout",
     "output_type": "stream",
     "text": [
      "root\n |-- name: string (nullable = true)\n |-- Appliance: array (nullable = true)\n |    |-- element: string (containsNull = true)\n\n"
     ]
    }
   ],
   "source": [
    "#Array\n",
    "ab=[(\"arun\",[\"TV\",\"AC\",\"Phone\",\"Laptop\"]),\n",
    "    (\"babu\",[\"AC\",\"TV\",\"Phone\"]),\n",
    "    (\"chandru\",[\"AC\",\"TV\"]),\n",
    "    (\"dinesh\",None)]\n",
    "bc=[\"name\",\"Appliance\"]\n",
    "df=spark.createDataFrame(data=ab,schema=bc)\n",
    "display(df)\n",
    "df.printSchema()"
   ]
  },
  {
   "cell_type": "code",
   "execution_count": 0,
   "metadata": {
    "application/vnd.databricks.v1+cell": {
     "cellMetadata": {
      "byteLimit": 2048000,
      "rowLimit": 10000
     },
     "inputWidgets": {},
     "nuid": "b9e6601b-f40f-455f-a1f1-79d932f7ebf3",
     "showTitle": true,
     "tableResultSettingsMap": {},
     "title": "Explode Explode_Outer PosExplode posexplode_outer"
    }
   },
   "outputs": [
    {
     "output_type": "display_data",
     "data": {
      "text/html": [
       "<style scoped>\n",
       "  .table-result-container {\n",
       "    max-height: 300px;\n",
       "    overflow: auto;\n",
       "  }\n",
       "  table, th, td {\n",
       "    border: 1px solid black;\n",
       "    border-collapse: collapse;\n",
       "  }\n",
       "  th, td {\n",
       "    padding: 5px;\n",
       "  }\n",
       "  th {\n",
       "    text-align: left;\n",
       "  }\n",
       "</style><div class='table-result-container'><table class='table-result'><thead style='background-color: white'><tr><th>name</th><th>pos</th><th>col</th></tr></thead><tbody><tr><td>arun</td><td>0</td><td>TV</td></tr><tr><td>arun</td><td>1</td><td>AC</td></tr><tr><td>arun</td><td>2</td><td>Phone</td></tr><tr><td>arun</td><td>3</td><td>Laptop</td></tr><tr><td>babu</td><td>0</td><td>AC</td></tr><tr><td>babu</td><td>1</td><td>TV</td></tr><tr><td>babu</td><td>2</td><td>Phone</td></tr><tr><td>chandru</td><td>0</td><td>AC</td></tr><tr><td>chandru</td><td>1</td><td>TV</td></tr><tr><td>dinesh</td><td>null</td><td>null</td></tr></tbody></table></div>"
      ]
     },
     "metadata": {
      "application/vnd.databricks.v1+output": {
       "addedWidgets": {},
       "aggData": [],
       "aggError": "",
       "aggOverflow": false,
       "aggSchema": [],
       "aggSeriesLimitReached": false,
       "aggType": "",
       "arguments": {},
       "columnCustomDisplayInfos": {},
       "data": [
        [
         "arun",
         0,
         "TV"
        ],
        [
         "arun",
         1,
         "AC"
        ],
        [
         "arun",
         2,
         "Phone"
        ],
        [
         "arun",
         3,
         "Laptop"
        ],
        [
         "babu",
         0,
         "AC"
        ],
        [
         "babu",
         1,
         "TV"
        ],
        [
         "babu",
         2,
         "Phone"
        ],
        [
         "chandru",
         0,
         "AC"
        ],
        [
         "chandru",
         1,
         "TV"
        ],
        [
         "dinesh",
         null,
         null
        ]
       ],
       "datasetInfos": [],
       "dbfsResultPath": null,
       "isJsonSchema": true,
       "metadata": {},
       "overflow": false,
       "plotOptions": {
        "customPlotOptions": {},
        "displayType": "table",
        "pivotAggregation": null,
        "pivotColumns": null,
        "xColumns": null,
        "yColumns": null
       },
       "removedWidgets": [],
       "schema": [
        {
         "metadata": "{}",
         "name": "name",
         "type": "\"string\""
        },
        {
         "metadata": "{}",
         "name": "pos",
         "type": "\"integer\""
        },
        {
         "metadata": "{}",
         "name": "col",
         "type": "\"string\""
        }
       ],
       "type": "table"
      }
     },
     "output_type": "display_data"
    }
   ],
   "source": [
    "from pyspark.sql import functions as f\n",
    "# df1=df.select(df.name,f.explode(df.Appliance))\n",
    "# df1=df.select(df.name,f.explode_outer(df.Appliance))\n",
    "# df1=df.select(df.name,f.posexplode(df.Appliance))\n",
    "df1=df.select(df.name,f.posexplode_outer(df.Appliance))\n",
    "display(df1)"
   ]
  },
  {
   "cell_type": "code",
   "execution_count": 0,
   "metadata": {
    "application/vnd.databricks.v1+cell": {
     "cellMetadata": {
      "byteLimit": 2048000,
      "rowLimit": 10000
     },
     "inputWidgets": {},
     "nuid": "729a01e8-c562-4b9d-b8c1-5c5377a9796f",
     "showTitle": false,
     "tableResultSettingsMap": {},
     "title": ""
    }
   },
   "outputs": [
    {
     "output_type": "display_data",
     "data": {
      "text/html": [
       "<style scoped>\n",
       "  .table-result-container {\n",
       "    max-height: 300px;\n",
       "    overflow: auto;\n",
       "  }\n",
       "  table, th, td {\n",
       "    border: 1px solid black;\n",
       "    border-collapse: collapse;\n",
       "  }\n",
       "  th, td {\n",
       "    padding: 5px;\n",
       "  }\n",
       "  th {\n",
       "    text-align: left;\n",
       "  }\n",
       "</style><div class='table-result-container'><table class='table-result'><thead style='background-color: white'><tr><th>name</th><th>Appliance</th></tr></thead><tbody><tr><td>arun</td><td>Map(a -> TV, b -> AC, c -> Phone, d -> Laptop)</td></tr><tr><td>babu</td><td>Map(a -> AC, b -> TV, c -> Phone)</td></tr><tr><td>chandru</td><td>Map(a -> AC, b -> TV)</td></tr><tr><td>dinesh</td><td>null</td></tr></tbody></table></div>"
      ]
     },
     "metadata": {
      "application/vnd.databricks.v1+output": {
       "addedWidgets": {},
       "aggData": [],
       "aggError": "",
       "aggOverflow": false,
       "aggSchema": [],
       "aggSeriesLimitReached": false,
       "aggType": "",
       "arguments": {},
       "columnCustomDisplayInfos": {},
       "data": [
        [
         "arun",
         {
          "a": "TV",
          "b": "AC",
          "c": "Phone",
          "d": "Laptop"
         }
        ],
        [
         "babu",
         {
          "a": "AC",
          "b": "TV",
          "c": "Phone"
         }
        ],
        [
         "chandru",
         {
          "a": "AC",
          "b": "TV"
         }
        ],
        [
         "dinesh",
         null
        ]
       ],
       "datasetInfos": [],
       "dbfsResultPath": null,
       "isJsonSchema": true,
       "metadata": {},
       "overflow": false,
       "plotOptions": {
        "customPlotOptions": {},
        "displayType": "table",
        "pivotAggregation": null,
        "pivotColumns": null,
        "xColumns": null,
        "yColumns": null
       },
       "removedWidgets": [],
       "schema": [
        {
         "metadata": "{}",
         "name": "name",
         "type": "\"string\""
        },
        {
         "metadata": "{}",
         "name": "Appliance",
         "type": "{\"type\":\"map\",\"keyType\":\"string\",\"valueType\":\"string\",\"valueContainsNull\":true}"
        }
       ],
       "type": "table"
      }
     },
     "output_type": "display_data"
    },
    {
     "output_type": "stream",
     "name": "stdout",
     "output_type": "stream",
     "text": [
      "root\n |-- name: string (nullable = true)\n |-- Appliance: map (nullable = true)\n |    |-- key: string\n |    |-- value: string (valueContainsNull = true)\n\n"
     ]
    }
   ],
   "source": [
    "#Map\n",
    "ab=[(\"arun\",{'a':\"TV\",'b':\"AC\",'c':\"Phone\",'d':\"Laptop\"}),\n",
    "    (\"babu\",{'a':\"AC\",'b':\"TV\",'c':\"Phone\"}),\n",
    "    (\"chandru\",{'a':\"AC\",'b':\"TV\"}),\n",
    "    (\"dinesh\",None)]\n",
    "bc=[\"name\",\"Appliance\"]\n",
    "df=spark.createDataFrame(data=ab,schema=bc)\n",
    "display(df)\n",
    "df.printSchema()"
   ]
  },
  {
   "cell_type": "code",
   "execution_count": 0,
   "metadata": {
    "application/vnd.databricks.v1+cell": {
     "cellMetadata": {
      "byteLimit": 2048000,
      "rowLimit": 10000
     },
     "inputWidgets": {},
     "nuid": "dc7399bd-6b5c-44ab-8369-6c8e558d86dc",
     "showTitle": false,
     "tableResultSettingsMap": {},
     "title": ""
    }
   },
   "outputs": [
    {
     "output_type": "display_data",
     "data": {
      "text/html": [
       "<style scoped>\n",
       "  .table-result-container {\n",
       "    max-height: 300px;\n",
       "    overflow: auto;\n",
       "  }\n",
       "  table, th, td {\n",
       "    border: 1px solid black;\n",
       "    border-collapse: collapse;\n",
       "  }\n",
       "  th, td {\n",
       "    padding: 5px;\n",
       "  }\n",
       "  th {\n",
       "    text-align: left;\n",
       "  }\n",
       "</style><div class='table-result-container'><table class='table-result'><thead style='background-color: white'><tr><th>name</th><th>pos</th><th>key</th><th>value</th></tr></thead><tbody><tr><td>arun</td><td>0</td><td>a</td><td>TV</td></tr><tr><td>arun</td><td>1</td><td>b</td><td>AC</td></tr><tr><td>arun</td><td>2</td><td>c</td><td>Phone</td></tr><tr><td>arun</td><td>3</td><td>d</td><td>Laptop</td></tr><tr><td>babu</td><td>0</td><td>a</td><td>AC</td></tr><tr><td>babu</td><td>1</td><td>b</td><td>TV</td></tr><tr><td>babu</td><td>2</td><td>c</td><td>Phone</td></tr><tr><td>chandru</td><td>0</td><td>a</td><td>AC</td></tr><tr><td>chandru</td><td>1</td><td>b</td><td>TV</td></tr><tr><td>dinesh</td><td>null</td><td>null</td><td>null</td></tr></tbody></table></div>"
      ]
     },
     "metadata": {
      "application/vnd.databricks.v1+output": {
       "addedWidgets": {},
       "aggData": [],
       "aggError": "",
       "aggOverflow": false,
       "aggSchema": [],
       "aggSeriesLimitReached": false,
       "aggType": "",
       "arguments": {},
       "columnCustomDisplayInfos": {},
       "data": [
        [
         "arun",
         0,
         "a",
         "TV"
        ],
        [
         "arun",
         1,
         "b",
         "AC"
        ],
        [
         "arun",
         2,
         "c",
         "Phone"
        ],
        [
         "arun",
         3,
         "d",
         "Laptop"
        ],
        [
         "babu",
         0,
         "a",
         "AC"
        ],
        [
         "babu",
         1,
         "b",
         "TV"
        ],
        [
         "babu",
         2,
         "c",
         "Phone"
        ],
        [
         "chandru",
         0,
         "a",
         "AC"
        ],
        [
         "chandru",
         1,
         "b",
         "TV"
        ],
        [
         "dinesh",
         null,
         null,
         null
        ]
       ],
       "datasetInfos": [],
       "dbfsResultPath": null,
       "isJsonSchema": true,
       "metadata": {},
       "overflow": false,
       "plotOptions": {
        "customPlotOptions": {},
        "displayType": "table",
        "pivotAggregation": null,
        "pivotColumns": null,
        "xColumns": null,
        "yColumns": null
       },
       "removedWidgets": [],
       "schema": [
        {
         "metadata": "{}",
         "name": "name",
         "type": "\"string\""
        },
        {
         "metadata": "{}",
         "name": "pos",
         "type": "\"integer\""
        },
        {
         "metadata": "{}",
         "name": "key",
         "type": "\"string\""
        },
        {
         "metadata": "{}",
         "name": "value",
         "type": "\"string\""
        }
       ],
       "type": "table"
      }
     },
     "output_type": "display_data"
    }
   ],
   "source": [
    "from pyspark.sql import functions as f\n",
    "# df1=df.select(df.name,f.explode(df.Appliance))\n",
    "# df1=df.select(df.name,f.explode_outer(df.Appliance))\n",
    "# df1=df.select(df.name,f.posexplode(df.Appliance))\n",
    "df1=df.select(df.name,f.posexplode_outer(df.Appliance))\n",
    "display(df1)"
   ]
  },
  {
   "cell_type": "code",
   "execution_count": 0,
   "metadata": {
    "application/vnd.databricks.v1+cell": {
     "cellMetadata": {
      "byteLimit": 2048000,
      "rowLimit": 10000
     },
     "inputWidgets": {},
     "nuid": "ec3256ba-4ae7-4efb-8cc8-9068ae427a24",
     "showTitle": false,
     "tableResultSettingsMap": {},
     "title": ""
    }
   },
   "outputs": [
    {
     "output_type": "display_data",
     "data": {
      "text/html": [
       "<style scoped>\n",
       "  .table-result-container {\n",
       "    max-height: 300px;\n",
       "    overflow: auto;\n",
       "  }\n",
       "  table, th, td {\n",
       "    border: 1px solid black;\n",
       "    border-collapse: collapse;\n",
       "  }\n",
       "  th, td {\n",
       "    padding: 5px;\n",
       "  }\n",
       "  th {\n",
       "    text-align: left;\n",
       "  }\n",
       "</style><div class='table-result-container'><table class='table-result'><thead style='background-color: white'><tr><th>name</th><th>sub</th><th>mark</th><th>status</th><th>attendence</th></tr></thead><tbody><tr><td>a</td><td>Maths</td><td>80</td><td>P</td><td>90</td></tr><tr><td>b</td><td>Science</td><td>90</td><td>P</td><td>80</td></tr><tr><td>c</td><td>English</td><td>45</td><td>F</td><td>50</td></tr><tr><td>d</td><td>Maths</td><td>null</td><td>NA</td><td>40</td></tr></tbody></table></div>"
      ]
     },
     "metadata": {
      "application/vnd.databricks.v1+output": {
       "addedWidgets": {},
       "aggData": [],
       "aggError": "",
       "aggOverflow": false,
       "aggSchema": [],
       "aggSeriesLimitReached": false,
       "aggType": "",
       "arguments": {},
       "columnCustomDisplayInfos": {},
       "data": [
        [
         "a",
         "Maths",
         80,
         "P",
         90
        ],
        [
         "b",
         "Science",
         90,
         "P",
         80
        ],
        [
         "c",
         "English",
         45,
         "F",
         50
        ],
        [
         "d",
         "Maths",
         null,
         "NA",
         40
        ]
       ],
       "datasetInfos": [],
       "dbfsResultPath": null,
       "isJsonSchema": true,
       "metadata": {},
       "overflow": false,
       "plotOptions": {
        "customPlotOptions": {},
        "displayType": "table",
        "pivotAggregation": null,
        "pivotColumns": null,
        "xColumns": null,
        "yColumns": null
       },
       "removedWidgets": [],
       "schema": [
        {
         "metadata": "{}",
         "name": "name",
         "type": "\"string\""
        },
        {
         "metadata": "{}",
         "name": "sub",
         "type": "\"string\""
        },
        {
         "metadata": "{}",
         "name": "mark",
         "type": "\"long\""
        },
        {
         "metadata": "{}",
         "name": "status",
         "type": "\"string\""
        },
        {
         "metadata": "{}",
         "name": "attendence",
         "type": "\"long\""
        }
       ],
       "type": "table"
      }
     },
     "output_type": "display_data"
    }
   ],
   "source": [
    "ab=[('a','Maths',80,'P',90),\n",
    "    ('b','Science',90,'P',80),\n",
    "    ('c','English',45,'F',50),\n",
    "    ('d','Maths',None,\"NA\",40)]\n",
    "df=spark.createDataFrame(data=ab,schema=[\"name\",\"sub\",\"mark\",\"status\",\"attendence\"])\n",
    "display(df)"
   ]
  },
  {
   "cell_type": "code",
   "execution_count": 0,
   "metadata": {
    "application/vnd.databricks.v1+cell": {
     "cellMetadata": {
      "byteLimit": 2048000,
      "rowLimit": 10000
     },
     "inputWidgets": {},
     "nuid": "c2a51164-9ce3-46e4-9036-145e0319231c",
     "showTitle": true,
     "tableResultSettingsMap": {},
     "title": "when otherwise"
    }
   },
   "outputs": [
    {
     "output_type": "display_data",
     "data": {
      "text/html": [
       "<style scoped>\n",
       "  .table-result-container {\n",
       "    max-height: 300px;\n",
       "    overflow: auto;\n",
       "  }\n",
       "  table, th, td {\n",
       "    border: 1px solid black;\n",
       "    border-collapse: collapse;\n",
       "  }\n",
       "  th, td {\n",
       "    padding: 5px;\n",
       "  }\n",
       "  th {\n",
       "    text-align: left;\n",
       "  }\n",
       "</style><div class='table-result-container'><table class='table-result'><thead style='background-color: white'><tr><th>name</th><th>sub</th><th>mark</th><th>status</th><th>attendence</th><th>new_status</th></tr></thead><tbody><tr><td>a</td><td>Maths</td><td>80</td><td>P</td><td>90</td><td>Distinct</td></tr><tr><td>b</td><td>Science</td><td>90</td><td>P</td><td>80</td><td>Distinct</td></tr><tr><td>c</td><td>English</td><td>45</td><td>F</td><td>50</td><td>Good</td></tr><tr><td>d</td><td>Maths</td><td>null</td><td>NA</td><td>40</td><td>AVG</td></tr></tbody></table></div>"
      ]
     },
     "metadata": {
      "application/vnd.databricks.v1+output": {
       "addedWidgets": {},
       "aggData": [],
       "aggError": "",
       "aggOverflow": false,
       "aggSchema": [],
       "aggSeriesLimitReached": false,
       "aggType": "",
       "arguments": {},
       "columnCustomDisplayInfos": {},
       "data": [
        [
         "a",
         "Maths",
         80,
         "P",
         90,
         "Distinct"
        ],
        [
         "b",
         "Science",
         90,
         "P",
         80,
         "Distinct"
        ],
        [
         "c",
         "English",
         45,
         "F",
         50,
         "Good"
        ],
        [
         "d",
         "Maths",
         null,
         "NA",
         40,
         "AVG"
        ]
       ],
       "datasetInfos": [],
       "dbfsResultPath": null,
       "isJsonSchema": true,
       "metadata": {},
       "overflow": false,
       "plotOptions": {
        "customPlotOptions": {},
        "displayType": "table",
        "pivotAggregation": null,
        "pivotColumns": null,
        "xColumns": null,
        "yColumns": null
       },
       "removedWidgets": [],
       "schema": [
        {
         "metadata": "{}",
         "name": "name",
         "type": "\"string\""
        },
        {
         "metadata": "{}",
         "name": "sub",
         "type": "\"string\""
        },
        {
         "metadata": "{}",
         "name": "mark",
         "type": "\"long\""
        },
        {
         "metadata": "{}",
         "name": "status",
         "type": "\"string\""
        },
        {
         "metadata": "{}",
         "name": "attendence",
         "type": "\"long\""
        },
        {
         "metadata": "{}",
         "name": "new_status",
         "type": "\"string\""
        }
       ],
       "type": "table"
      }
     },
     "output_type": "display_data"
    }
   ],
   "source": [
    "from pyspark.sql.functions import when\n",
    "# df1=df.withColumn(\"new_status\",when(df.status==\"P\",\"PASS\").when(df.status==\"F\",\"FAIL\").otherwise(\"Absent\"))\n",
    "df1=df.withColumn(\"new_status\",when((df.mark>=80)&(df.attendence>=80),\"Distinct\").when((df.mark>=50) | (df.attendence>=50),\"Good\").otherwise(\"AVG\"))\n",
    "display(df1)"
   ]
  },
  {
   "cell_type": "code",
   "execution_count": 0,
   "metadata": {
    "application/vnd.databricks.v1+cell": {
     "cellMetadata": {
      "byteLimit": 2048000,
      "rowLimit": 10000
     },
     "inputWidgets": {},
     "nuid": "113b4b50-bf7e-4fb1-b633-60570fe84588",
     "showTitle": false,
     "tableResultSettingsMap": {},
     "title": ""
    }
   },
   "outputs": [
    {
     "output_type": "display_data",
     "data": {
      "text/html": [
       "<style scoped>\n",
       "  .table-result-container {\n",
       "    max-height: 300px;\n",
       "    overflow: auto;\n",
       "  }\n",
       "  table, th, td {\n",
       "    border: 1px solid black;\n",
       "    border-collapse: collapse;\n",
       "  }\n",
       "  th, td {\n",
       "    padding: 5px;\n",
       "  }\n",
       "  th {\n",
       "    text-align: left;\n",
       "  }\n",
       "</style><div class='table-result-container'><table class='table-result'><thead style='background-color: white'><tr><th>id</th><th>name</th><th>age</th></tr></thead><tbody><tr><td>1</td><td>arun</td><td>25</td></tr><tr><td>2</td><td>babu</td><td>24</td></tr><tr><td>3</td><td>chandru</td><td>23</td></tr></tbody></table></div>"
      ]
     },
     "metadata": {
      "application/vnd.databricks.v1+output": {
       "addedWidgets": {},
       "aggData": [],
       "aggError": "",
       "aggOverflow": false,
       "aggSchema": [],
       "aggSeriesLimitReached": false,
       "aggType": "",
       "arguments": {},
       "columnCustomDisplayInfos": {},
       "data": [
        [
         1,
         "arun",
         25
        ],
        [
         2,
         "babu",
         24
        ],
        [
         3,
         "chandru",
         23
        ]
       ],
       "datasetInfos": [],
       "dbfsResultPath": null,
       "isJsonSchema": true,
       "metadata": {},
       "overflow": false,
       "plotOptions": {
        "customPlotOptions": {},
        "displayType": "table",
        "pivotAggregation": null,
        "pivotColumns": null,
        "xColumns": null,
        "yColumns": null
       },
       "removedWidgets": [],
       "schema": [
        {
         "metadata": "{}",
         "name": "id",
         "type": "\"long\""
        },
        {
         "metadata": "{}",
         "name": "name",
         "type": "\"string\""
        },
        {
         "metadata": "{}",
         "name": "age",
         "type": "\"long\""
        }
       ],
       "type": "table"
      }
     },
     "output_type": "display_data"
    }
   ],
   "source": [
    "ab=[(1,'arun',25),(2,\"babu\",24),(3,\"chandru\",23)]\n",
    "bc=[\"id\",\"name\",\"age\"]\n",
    "df=spark.createDataFrame(data=ab,schema=bc)\n",
    "display(df)"
   ]
  },
  {
   "cell_type": "code",
   "execution_count": 0,
   "metadata": {
    "application/vnd.databricks.v1+cell": {
     "cellMetadata": {
      "byteLimit": 2048000,
      "rowLimit": 10000
     },
     "inputWidgets": {},
     "nuid": "8ce71af1-6f96-4f05-8695-ec02f7b341ae",
     "showTitle": false,
     "tableResultSettingsMap": {},
     "title": ""
    }
   },
   "outputs": [
    {
     "output_type": "display_data",
     "data": {
      "text/html": [
       "<style scoped>\n",
       "  .table-result-container {\n",
       "    max-height: 300px;\n",
       "    overflow: auto;\n",
       "  }\n",
       "  table, th, td {\n",
       "    border: 1px solid black;\n",
       "    border-collapse: collapse;\n",
       "  }\n",
       "  th, td {\n",
       "    padding: 5px;\n",
       "  }\n",
       "  th {\n",
       "    text-align: left;\n",
       "  }\n",
       "</style><div class='table-result-container'><table class='table-result'><thead style='background-color: white'><tr><th>id</th><th>name</th><th>age</th></tr></thead><tbody><tr><td>3</td><td>chandru</td><td>23</td></tr><tr><td>4</td><td>abu</td><td>24</td></tr><tr><td>5</td><td>andru</td><td>23</td></tr></tbody></table></div>"
      ]
     },
     "metadata": {
      "application/vnd.databricks.v1+output": {
       "addedWidgets": {},
       "aggData": [],
       "aggError": "",
       "aggOverflow": false,
       "aggSchema": [],
       "aggSeriesLimitReached": false,
       "aggType": "",
       "arguments": {},
       "columnCustomDisplayInfos": {},
       "data": [
        [
         3,
         "chandru",
         23
        ],
        [
         4,
         "abu",
         24
        ],
        [
         5,
         "andru",
         23
        ]
       ],
       "datasetInfos": [],
       "dbfsResultPath": null,
       "isJsonSchema": true,
       "metadata": {},
       "overflow": false,
       "plotOptions": {
        "customPlotOptions": {},
        "displayType": "table",
        "pivotAggregation": null,
        "pivotColumns": null,
        "xColumns": null,
        "yColumns": null
       },
       "removedWidgets": [],
       "schema": [
        {
         "metadata": "{}",
         "name": "id",
         "type": "\"long\""
        },
        {
         "metadata": "{}",
         "name": "name",
         "type": "\"string\""
        },
        {
         "metadata": "{}",
         "name": "age",
         "type": "\"long\""
        }
       ],
       "type": "table"
      }
     },
     "output_type": "display_data"
    }
   ],
   "source": [
    "ab=[(3,'chandru',23),(4,\"abu\",24),(5,\"andru\",23)]\n",
    "bc=[\"id\",\"name\",\"age\"]\n",
    "df1=spark.createDataFrame(data=ab,schema=bc)\n",
    "display(df1)"
   ]
  },
  {
   "cell_type": "code",
   "execution_count": 0,
   "metadata": {
    "application/vnd.databricks.v1+cell": {
     "cellMetadata": {
      "byteLimit": 2048000,
      "rowLimit": 10000
     },
     "inputWidgets": {},
     "nuid": "d61ade13-ed8f-457b-88f5-104f9cabb961",
     "showTitle": true,
     "tableResultSettingsMap": {},
     "title": "union unionall unionByName"
    }
   },
   "outputs": [
    {
     "output_type": "display_data",
     "data": {
      "text/html": [
       "<style scoped>\n",
       "  .table-result-container {\n",
       "    max-height: 300px;\n",
       "    overflow: auto;\n",
       "  }\n",
       "  table, th, td {\n",
       "    border: 1px solid black;\n",
       "    border-collapse: collapse;\n",
       "  }\n",
       "  th, td {\n",
       "    padding: 5px;\n",
       "  }\n",
       "  th {\n",
       "    text-align: left;\n",
       "  }\n",
       "</style><div class='table-result-container'><table class='table-result'><thead style='background-color: white'><tr><th>id</th><th>name</th><th>age</th></tr></thead><tbody><tr><td>1</td><td>arun</td><td>25</td></tr><tr><td>2</td><td>babu</td><td>24</td></tr><tr><td>3</td><td>chandru</td><td>23</td></tr><tr><td>3</td><td>chandru</td><td>23</td></tr><tr><td>4</td><td>abu</td><td>24</td></tr><tr><td>5</td><td>andru</td><td>23</td></tr></tbody></table></div>"
      ]
     },
     "metadata": {
      "application/vnd.databricks.v1+output": {
       "addedWidgets": {},
       "aggData": [],
       "aggError": "",
       "aggOverflow": false,
       "aggSchema": [],
       "aggSeriesLimitReached": false,
       "aggType": "",
       "arguments": {},
       "columnCustomDisplayInfos": {},
       "data": [
        [
         1,
         "arun",
         25
        ],
        [
         2,
         "babu",
         24
        ],
        [
         3,
         "chandru",
         23
        ],
        [
         3,
         "chandru",
         23
        ],
        [
         4,
         "abu",
         24
        ],
        [
         5,
         "andru",
         23
        ]
       ],
       "datasetInfos": [],
       "dbfsResultPath": null,
       "isJsonSchema": true,
       "metadata": {},
       "overflow": false,
       "plotOptions": {
        "customPlotOptions": {},
        "displayType": "table",
        "pivotAggregation": null,
        "pivotColumns": null,
        "xColumns": null,
        "yColumns": null
       },
       "removedWidgets": [],
       "schema": [
        {
         "metadata": "{}",
         "name": "id",
         "type": "\"long\""
        },
        {
         "metadata": "{}",
         "name": "name",
         "type": "\"string\""
        },
        {
         "metadata": "{}",
         "name": "age",
         "type": "\"long\""
        }
       ],
       "type": "table"
      }
     },
     "output_type": "display_data"
    },
    {
     "output_type": "display_data",
     "data": {
      "text/html": [
       "<style scoped>\n",
       "  .table-result-container {\n",
       "    max-height: 300px;\n",
       "    overflow: auto;\n",
       "  }\n",
       "  table, th, td {\n",
       "    border: 1px solid black;\n",
       "    border-collapse: collapse;\n",
       "  }\n",
       "  th, td {\n",
       "    padding: 5px;\n",
       "  }\n",
       "  th {\n",
       "    text-align: left;\n",
       "  }\n",
       "</style><div class='table-result-container'><table class='table-result'><thead style='background-color: white'><tr><th>id</th><th>name</th><th>age</th></tr></thead><tbody><tr><td>1</td><td>arun</td><td>25</td></tr><tr><td>2</td><td>babu</td><td>24</td></tr><tr><td>3</td><td>chandru</td><td>23</td></tr><tr><td>4</td><td>abu</td><td>24</td></tr><tr><td>5</td><td>andru</td><td>23</td></tr></tbody></table></div>"
      ]
     },
     "metadata": {
      "application/vnd.databricks.v1+output": {
       "addedWidgets": {},
       "aggData": [],
       "aggError": "",
       "aggOverflow": false,
       "aggSchema": [],
       "aggSeriesLimitReached": false,
       "aggType": "",
       "arguments": {},
       "columnCustomDisplayInfos": {},
       "data": [
        [
         1,
         "arun",
         25
        ],
        [
         2,
         "babu",
         24
        ],
        [
         3,
         "chandru",
         23
        ],
        [
         4,
         "abu",
         24
        ],
        [
         5,
         "andru",
         23
        ]
       ],
       "datasetInfos": [],
       "dbfsResultPath": null,
       "isJsonSchema": true,
       "metadata": {},
       "overflow": false,
       "plotOptions": {
        "customPlotOptions": {},
        "displayType": "table",
        "pivotAggregation": null,
        "pivotColumns": null,
        "xColumns": null,
        "yColumns": null
       },
       "removedWidgets": [],
       "schema": [
        {
         "metadata": "{}",
         "name": "id",
         "type": "\"long\""
        },
        {
         "metadata": "{}",
         "name": "name",
         "type": "\"string\""
        },
        {
         "metadata": "{}",
         "name": "age",
         "type": "\"long\""
        }
       ],
       "type": "table"
      }
     },
     "output_type": "display_data"
    }
   ],
   "source": [
    "# c=df.union(df1)\n",
    "c=df.unionAll(df1)\n",
    "display(c)\n",
    "display(c.dropDuplicates())"
   ]
  },
  {
   "cell_type": "code",
   "execution_count": 0,
   "metadata": {
    "application/vnd.databricks.v1+cell": {
     "cellMetadata": {
      "byteLimit": 2048000,
      "rowLimit": 10000
     },
     "inputWidgets": {},
     "nuid": "3179c499-e8f5-4142-9264-14f2964d9d02",
     "showTitle": false,
     "tableResultSettingsMap": {},
     "title": ""
    }
   },
   "outputs": [
    {
     "output_type": "stream",
     "name": "stdout",
     "output_type": "stream",
     "text": [
      "StructType([StructField('year', IntegerType(), True)])"
     ]
    }
   ],
   "source": [
    "from pyspark.sql.types import *\n",
    "df=StructType([StructField(\"year\",IntegerType(),True)])\n",
    "display(df)"
   ]
  },
  {
   "cell_type": "code",
   "execution_count": 0,
   "metadata": {
    "application/vnd.databricks.v1+cell": {
     "cellMetadata": {
      "byteLimit": 2048000,
      "rowLimit": 10000
     },
     "inputWidgets": {},
     "nuid": "a21baf48-642c-42b7-9af9-56213e14ef10",
     "showTitle": false,
     "tableResultSettingsMap": {},
     "title": ""
    }
   },
   "outputs": [
    {
     "output_type": "display_data",
     "data": {
      "text/html": [
       "<style scoped>\n",
       "  .table-result-container {\n",
       "    max-height: 300px;\n",
       "    overflow: auto;\n",
       "  }\n",
       "  table, th, td {\n",
       "    border: 1px solid black;\n",
       "    border-collapse: collapse;\n",
       "  }\n",
       "  th, td {\n",
       "    padding: 5px;\n",
       "  }\n",
       "  th {\n",
       "    text-align: left;\n",
       "  }\n",
       "</style><div class='table-result-container'><table class='table-result'><thead style='background-color: white'><tr><th>company</th><th>quater</th><th>revenue</th></tr></thead><tbody><tr><td>abc</td><td>q1</td><td>100</td></tr><tr><td>abc</td><td>q2</td><td>200</td></tr><tr><td>abc</td><td>q3</td><td>300</td></tr><tr><td>abc</td><td>q1</td><td>200</td></tr><tr><td>xyz</td><td>q1</td><td>100</td></tr><tr><td>xyz</td><td>q3</td><td>300</td></tr><tr><td>xyz</td><td>q2</td><td>400</td></tr><tr><td>xyz</td><td>q1</td><td>100</td></tr></tbody></table></div>"
      ]
     },
     "metadata": {
      "application/vnd.databricks.v1+output": {
       "addedWidgets": {},
       "aggData": [],
       "aggError": "",
       "aggOverflow": false,
       "aggSchema": [],
       "aggSeriesLimitReached": false,
       "aggType": "",
       "arguments": {},
       "columnCustomDisplayInfos": {},
       "data": [
        [
         "abc",
         "q1",
         100
        ],
        [
         "abc",
         "q2",
         200
        ],
        [
         "abc",
         "q3",
         300
        ],
        [
         "abc",
         "q1",
         200
        ],
        [
         "xyz",
         "q1",
         100
        ],
        [
         "xyz",
         "q3",
         300
        ],
        [
         "xyz",
         "q2",
         400
        ],
        [
         "xyz",
         "q1",
         100
        ]
       ],
       "datasetInfos": [],
       "dbfsResultPath": null,
       "isJsonSchema": true,
       "metadata": {},
       "overflow": false,
       "plotOptions": {
        "customPlotOptions": {},
        "displayType": "table",
        "pivotAggregation": null,
        "pivotColumns": null,
        "xColumns": null,
        "yColumns": null
       },
       "removedWidgets": [],
       "schema": [
        {
         "metadata": "{}",
         "name": "company",
         "type": "\"string\""
        },
        {
         "metadata": "{}",
         "name": "quater",
         "type": "\"string\""
        },
        {
         "metadata": "{}",
         "name": "revenue",
         "type": "\"long\""
        }
       ],
       "type": "table"
      }
     },
     "output_type": "display_data"
    }
   ],
   "source": [
    "ab=[(\"abc\",\"q1\",100),(\"abc\",\"q2\",200),(\"abc\",\"q3\",300),(\"abc\",\"q1\",200),(\"xyz\",\"q1\",100),(\"xyz\",\"q3\",300),(\"xyz\",\"q2\",400),(\"xyz\",\"q1\",100)]\n",
    "bc=(\"company\",\"quater\",\"revenue\")\n",
    "df=spark.createDataFrame(data=ab,schema=bc)\n",
    "display(df)"
   ]
  },
  {
   "cell_type": "code",
   "execution_count": 0,
   "metadata": {
    "application/vnd.databricks.v1+cell": {
     "cellMetadata": {
      "byteLimit": 2048000,
      "rowLimit": 10000
     },
     "inputWidgets": {},
     "nuid": "4b2ff57a-efd4-4ec6-9797-d68baca8f58d",
     "showTitle": true,
     "tableResultSettingsMap": {},
     "title": "Pivot"
    }
   },
   "outputs": [
    {
     "output_type": "display_data",
     "data": {
      "text/html": [
       "<style scoped>\n",
       "  .table-result-container {\n",
       "    max-height: 300px;\n",
       "    overflow: auto;\n",
       "  }\n",
       "  table, th, td {\n",
       "    border: 1px solid black;\n",
       "    border-collapse: collapse;\n",
       "  }\n",
       "  th, td {\n",
       "    padding: 5px;\n",
       "  }\n",
       "  th {\n",
       "    text-align: left;\n",
       "  }\n",
       "</style><div class='table-result-container'><table class='table-result'><thead style='background-color: white'><tr><th>company</th><th>q1</th><th>q2</th><th>q3</th></tr></thead><tbody><tr><td>xyz</td><td>200</td><td>400</td><td>300</td></tr><tr><td>abc</td><td>300</td><td>200</td><td>300</td></tr></tbody></table></div>"
      ]
     },
     "metadata": {
      "application/vnd.databricks.v1+output": {
       "addedWidgets": {},
       "aggData": [],
       "aggError": "",
       "aggOverflow": false,
       "aggSchema": [],
       "aggSeriesLimitReached": false,
       "aggType": "",
       "arguments": {},
       "columnCustomDisplayInfos": {},
       "data": [
        [
         "xyz",
         200,
         400,
         300
        ],
        [
         "abc",
         300,
         200,
         300
        ]
       ],
       "datasetInfos": [],
       "dbfsResultPath": null,
       "isJsonSchema": true,
       "metadata": {},
       "overflow": false,
       "plotOptions": {
        "customPlotOptions": {},
        "displayType": "table",
        "pivotAggregation": null,
        "pivotColumns": null,
        "xColumns": null,
        "yColumns": null
       },
       "removedWidgets": [],
       "schema": [
        {
         "metadata": "{}",
         "name": "company",
         "type": "\"string\""
        },
        {
         "metadata": "{}",
         "name": "q1",
         "type": "\"long\""
        },
        {
         "metadata": "{}",
         "name": "q2",
         "type": "\"long\""
        },
        {
         "metadata": "{}",
         "name": "q3",
         "type": "\"long\""
        }
       ],
       "type": "table"
      }
     },
     "output_type": "display_data"
    }
   ],
   "source": [
    "df1=df.groupBy(\"company\").pivot(\"quater\").sum(\"revenue\")\n",
    "# df1=df.groupBy(\"company\").pivot(\"quater\").max(\"revenue\")\n",
    "display(df1)"
   ]
  },
  {
   "cell_type": "code",
   "execution_count": 0,
   "metadata": {
    "application/vnd.databricks.v1+cell": {
     "cellMetadata": {
      "byteLimit": 2048000,
      "rowLimit": 10000
     },
     "inputWidgets": {},
     "nuid": "2c04119e-e4e5-461f-9504-a07b5a0f2a51",
     "showTitle": true,
     "tableResultSettingsMap": {},
     "title": "unpivot"
    }
   },
   "outputs": [
    {
     "output_type": "display_data",
     "data": {
      "text/html": [
       "<style scoped>\n",
       "  .table-result-container {\n",
       "    max-height: 300px;\n",
       "    overflow: auto;\n",
       "  }\n",
       "  table, th, td {\n",
       "    border: 1px solid black;\n",
       "    border-collapse: collapse;\n",
       "  }\n",
       "  th, td {\n",
       "    padding: 5px;\n",
       "  }\n",
       "  th {\n",
       "    text-align: left;\n",
       "  }\n",
       "</style><div class='table-result-container'><table class='table-result'><thead style='background-color: white'><tr><th>company</th><th>quater</th><th>revenue</th></tr></thead><tbody><tr><td>xyz</td><td>q1</td><td>200</td></tr><tr><td>xyz</td><td>q2</td><td>400</td></tr><tr><td>xyz</td><td>q3</td><td>300</td></tr><tr><td>abc</td><td>q1</td><td>300</td></tr><tr><td>abc</td><td>q2</td><td>200</td></tr><tr><td>abc</td><td>q3</td><td>300</td></tr></tbody></table></div>"
      ]
     },
     "metadata": {
      "application/vnd.databricks.v1+output": {
       "addedWidgets": {},
       "aggData": [],
       "aggError": "",
       "aggOverflow": false,
       "aggSchema": [],
       "aggSeriesLimitReached": false,
       "aggType": "",
       "arguments": {},
       "columnCustomDisplayInfos": {},
       "data": [
        [
         "xyz",
         "q1",
         200
        ],
        [
         "xyz",
         "q2",
         400
        ],
        [
         "xyz",
         "q3",
         300
        ],
        [
         "abc",
         "q1",
         300
        ],
        [
         "abc",
         "q2",
         200
        ],
        [
         "abc",
         "q3",
         300
        ]
       ],
       "datasetInfos": [],
       "dbfsResultPath": null,
       "isJsonSchema": true,
       "metadata": {},
       "overflow": false,
       "plotOptions": {
        "customPlotOptions": {},
        "displayType": "table",
        "pivotAggregation": null,
        "pivotColumns": null,
        "xColumns": null,
        "yColumns": null
       },
       "removedWidgets": [],
       "schema": [
        {
         "metadata": "{}",
         "name": "company",
         "type": "\"string\""
        },
        {
         "metadata": "{}",
         "name": "quater",
         "type": "\"string\""
        },
        {
         "metadata": "{}",
         "name": "revenue",
         "type": "\"long\""
        }
       ],
       "type": "table"
      }
     },
     "output_type": "display_data"
    }
   ],
   "source": [
    "df2=df1.selectExpr(\"company\",\"stack(3,'q1',q1,'q2',q2,'q3',q3) as (quater,revenue)\")\n",
    "display(df2)"
   ]
  },
  {
   "cell_type": "code",
   "execution_count": 0,
   "metadata": {
    "application/vnd.databricks.v1+cell": {
     "cellMetadata": {
      "byteLimit": 2048000,
      "rowLimit": 10000
     },
     "inputWidgets": {},
     "nuid": "d885e6fe-e7db-4cf2-ae57-a2836d844760",
     "showTitle": true,
     "tableResultSettingsMap": {},
     "title": "json"
    }
   },
   "outputs": [
    {
     "output_type": "display_data",
     "data": {
      "text/html": [
       "<style scoped>\n",
       "  .table-result-container {\n",
       "    max-height: 300px;\n",
       "    overflow: auto;\n",
       "  }\n",
       "  table, th, td {\n",
       "    border: 1px solid black;\n",
       "    border-collapse: collapse;\n",
       "  }\n",
       "  th, td {\n",
       "    padding: 5px;\n",
       "  }\n",
       "  th {\n",
       "    text-align: left;\n",
       "  }\n",
       "</style><div class='table-result-container'><table class='table-result'><thead style='background-color: white'><tr><th>people</th></tr></thead><tbody><tr><td>List(List(28, Joe, male, Jackson, 7349282382), List(32, James, male, Smith, 5678568567), List(24, Emily, female, Jones, 456754675))</td></tr></tbody></table></div>"
      ]
     },
     "metadata": {
      "application/vnd.databricks.v1+output": {
       "addedWidgets": {},
       "aggData": [],
       "aggError": "",
       "aggOverflow": false,
       "aggSchema": [],
       "aggSeriesLimitReached": false,
       "aggType": "",
       "arguments": {},
       "columnCustomDisplayInfos": {},
       "data": [
        [
         [
          [
           28,
           "Joe",
           "male",
           "Jackson",
           "7349282382"
          ],
          [
           32,
           "James",
           "male",
           "Smith",
           "5678568567"
          ],
          [
           24,
           "Emily",
           "female",
           "Jones",
           "456754675"
          ]
         ]
        ]
       ],
       "datasetInfos": [],
       "dbfsResultPath": null,
       "isJsonSchema": true,
       "metadata": {},
       "overflow": false,
       "plotOptions": {
        "customPlotOptions": {},
        "displayType": "table",
        "pivotAggregation": null,
        "pivotColumns": null,
        "xColumns": null,
        "yColumns": null
       },
       "removedWidgets": [],
       "schema": [
        {
         "metadata": "{}",
         "name": "people",
         "type": "{\"type\":\"array\",\"elementType\":{\"type\":\"struct\",\"fields\":[{\"name\":\"age\",\"type\":\"long\",\"nullable\":true,\"metadata\":{}},{\"name\":\"firstName\",\"type\":\"string\",\"nullable\":true,\"metadata\":{}},{\"name\":\"gender\",\"type\":\"string\",\"nullable\":true,\"metadata\":{}},{\"name\":\"lastName\",\"type\":\"string\",\"nullable\":true,\"metadata\":{}},{\"name\":\"number\",\"type\":\"string\",\"nullable\":true,\"metadata\":{}}]},\"containsNull\":true}"
        }
       ],
       "type": "table"
      }
     },
     "output_type": "display_data"
    }
   ],
   "source": [
    "df=spark.read.option(\"multiline\",\"True\").json(\"/FileStore/sample4.json\")\n",
    "display(df)"
   ]
  },
  {
   "cell_type": "code",
   "execution_count": 0,
   "metadata": {
    "application/vnd.databricks.v1+cell": {
     "cellMetadata": {
      "byteLimit": 2048000,
      "rowLimit": 10000
     },
     "inputWidgets": {},
     "nuid": "5cf6cf0d-12d0-4934-9436-0c5f7f3257ef",
     "showTitle": false,
     "tableResultSettingsMap": {},
     "title": ""
    }
   },
   "outputs": [],
   "source": [
    "from pyspark.sql.types import *\n",
    "from pyspark.sql.functions import *\n",
    "\n",
    "#Flatten array of structs and structs\n",
    "def flatten(g2):\n",
    "   #compute Complex Fields (Lists and Structs) in Schema   \n",
    "   complex_fields = dict([(field.name, field.dataType)\n",
    "                             for field in g2.schema.fields\n",
    "                             if type(field.dataType) == ArrayType or  type(field.dataType) == StructType])\n",
    "   while len(complex_fields)!=0:\n",
    "      col_name=list(complex_fields.keys())[0]\n",
    "      print (\"Processing :\"+col_name+\" Type : \"+str(type(complex_fields[col_name])))\n",
    "    \n",
    "      #if StructType then convert all sub element to columns.\n",
    "      #i.e. flatten structs\n",
    "      if (type(complex_fields[col_name]) == StructType):\n",
    "         expanded = [col(col_name+'.'+k).alias(col_name+'_'+k) for k in [ n.name for n in  complex_fields[col_name]]]\n",
    "         g2=g2.select(\"*\", *expanded).drop(col_name)\n",
    "    \n",
    "      #if ArrayType then add the Array Elements as Rows using the explode function\n",
    "      #i.e. explode Arrays\n",
    "      elif (type(complex_fields[col_name]) == ArrayType):    \n",
    "         g2=g2.withColumn(col_name,explode_outer(col_name))\n",
    "    \n",
    "      #recompute remaining Complex Fields in Schema       \n",
    "      complex_fields = dict([(field.name, field.dataType)\n",
    "                             for field in g2.schema.fields\n",
    "                             if type(field.dataType) == ArrayType or  type(field.dataType) == StructType])\n",
    "   return g2"
   ]
  },
  {
   "cell_type": "code",
   "execution_count": 0,
   "metadata": {
    "application/vnd.databricks.v1+cell": {
     "cellMetadata": {
      "byteLimit": 2048000,
      "rowLimit": 10000
     },
     "inputWidgets": {},
     "nuid": "945f689c-9b32-45cf-9c71-0b6c1032459e",
     "showTitle": false,
     "tableResultSettingsMap": {},
     "title": ""
    }
   },
   "outputs": [
    {
     "output_type": "stream",
     "name": "stdout",
     "output_type": "stream",
     "text": [
      "Processing :people Type : <class 'pyspark.sql.types.ArrayType'>\nProcessing :people Type : <class 'pyspark.sql.types.StructType'>\n"
     ]
    },
    {
     "output_type": "display_data",
     "data": {
      "text/html": [
       "<style scoped>\n",
       "  .table-result-container {\n",
       "    max-height: 300px;\n",
       "    overflow: auto;\n",
       "  }\n",
       "  table, th, td {\n",
       "    border: 1px solid black;\n",
       "    border-collapse: collapse;\n",
       "  }\n",
       "  th, td {\n",
       "    padding: 5px;\n",
       "  }\n",
       "  th {\n",
       "    text-align: left;\n",
       "  }\n",
       "</style><div class='table-result-container'><table class='table-result'><thead style='background-color: white'><tr><th>people_age</th><th>people_firstName</th><th>people_gender</th><th>people_lastName</th><th>people_number</th></tr></thead><tbody><tr><td>28</td><td>Joe</td><td>male</td><td>Jackson</td><td>7349282382</td></tr><tr><td>32</td><td>James</td><td>male</td><td>Smith</td><td>5678568567</td></tr><tr><td>24</td><td>Emily</td><td>female</td><td>Jones</td><td>456754675</td></tr></tbody></table></div>"
      ]
     },
     "metadata": {
      "application/vnd.databricks.v1+output": {
       "addedWidgets": {},
       "aggData": [],
       "aggError": "",
       "aggOverflow": false,
       "aggSchema": [],
       "aggSeriesLimitReached": false,
       "aggType": "",
       "arguments": {},
       "columnCustomDisplayInfos": {},
       "data": [
        [
         28,
         "Joe",
         "male",
         "Jackson",
         "7349282382"
        ],
        [
         32,
         "James",
         "male",
         "Smith",
         "5678568567"
        ],
        [
         24,
         "Emily",
         "female",
         "Jones",
         "456754675"
        ]
       ],
       "datasetInfos": [],
       "dbfsResultPath": null,
       "isJsonSchema": true,
       "metadata": {},
       "overflow": false,
       "plotOptions": {
        "customPlotOptions": {},
        "displayType": "table",
        "pivotAggregation": null,
        "pivotColumns": null,
        "xColumns": null,
        "yColumns": null
       },
       "removedWidgets": [],
       "schema": [
        {
         "metadata": "{}",
         "name": "people_age",
         "type": "\"long\""
        },
        {
         "metadata": "{}",
         "name": "people_firstName",
         "type": "\"string\""
        },
        {
         "metadata": "{}",
         "name": "people_gender",
         "type": "\"string\""
        },
        {
         "metadata": "{}",
         "name": "people_lastName",
         "type": "\"string\""
        },
        {
         "metadata": "{}",
         "name": "people_number",
         "type": "\"string\""
        }
       ],
       "type": "table"
      }
     },
     "output_type": "display_data"
    }
   ],
   "source": [
    "display(flatten(df))"
   ]
  },
  {
   "cell_type": "code",
   "execution_count": 0,
   "metadata": {
    "application/vnd.databricks.v1+cell": {
     "cellMetadata": {
      "byteLimit": 2048000,
      "rowLimit": 10000
     },
     "inputWidgets": {},
     "nuid": "89ae007f-8ce3-47f3-b2f1-925844c6accd",
     "showTitle": true,
     "tableResultSettingsMap": {},
     "title": "Handling Bad records"
    }
   },
   "outputs": [
    {
     "output_type": "display_data",
     "data": {
      "text/html": [
       "<style scoped>\n",
       "  .table-result-container {\n",
       "    max-height: 300px;\n",
       "    overflow: auto;\n",
       "  }\n",
       "  table, th, td {\n",
       "    border: 1px solid black;\n",
       "    border-collapse: collapse;\n",
       "  }\n",
       "  th, td {\n",
       "    padding: 5px;\n",
       "  }\n",
       "  th {\n",
       "    text-align: left;\n",
       "  }\n",
       "</style><div class='table-result-container'><table class='table-result'><thead style='background-color: white'><tr><th>Month</th><th>Emp_count</th><th>Production_unit</th><th>Expense</th></tr></thead><tbody><tr><td>JAN</td><td>340</td><td>2000</td><td>30</td></tr><tr><td>FEB</td><td>318</td><td>2500</td><td>29</td></tr><tr><td>MAR</td><td>362</td><td>1500</td><td>32</td></tr><tr><td>APR</td><td>348</td><td>3000</td><td>26</td></tr><tr><td>MAY</td><td>363</td><td>2200</td><td>35,test_msg</td></tr><tr><td>JUN</td><td>435</td><td>3300</td><td>27</td></tr><tr><td>JUL</td><td>491</td><td>1600</td><td>23</td></tr><tr><td>AUG</td><td>505</td><td>Thousand</td><td>33</td></tr><tr><td>SEP</td><td>404</td><td>3500</td><td>36</td></tr><tr><td>OCT</td><td>359</td><td>2900</td><td>28</td></tr><tr><td>NOV</td><td>310</td><td>4000</td><td>25</td></tr><tr><td>DEC</td><td>337</td><td>3400</td><td>31</td></tr></tbody></table></div>"
      ]
     },
     "metadata": {
      "application/vnd.databricks.v1+output": {
       "addedWidgets": {},
       "aggData": [],
       "aggError": "",
       "aggOverflow": false,
       "aggSchema": [],
       "aggSeriesLimitReached": false,
       "aggType": "",
       "arguments": {},
       "columnCustomDisplayInfos": {},
       "data": [
        [
         "JAN",
         340,
         "2000",
         "30"
        ],
        [
         "FEB",
         318,
         "2500",
         "29"
        ],
        [
         "MAR",
         362,
         "1500",
         "32"
        ],
        [
         "APR",
         348,
         "3000",
         "26"
        ],
        [
         "MAY",
         363,
         "2200",
         "35,test_msg"
        ],
        [
         "JUN",
         435,
         "3300",
         "27"
        ],
        [
         "JUL",
         491,
         "1600",
         "23"
        ],
        [
         "AUG",
         505,
         "Thousand",
         "33"
        ],
        [
         "SEP",
         404,
         "3500",
         "36"
        ],
        [
         "OCT",
         359,
         "2900",
         "28"
        ],
        [
         "NOV",
         310,
         "4000",
         "25"
        ],
        [
         "DEC",
         337,
         "3400",
         "31"
        ]
       ],
       "datasetInfos": [],
       "dbfsResultPath": null,
       "isJsonSchema": true,
       "metadata": {},
       "overflow": false,
       "plotOptions": {
        "customPlotOptions": {},
        "displayType": "table",
        "pivotAggregation": null,
        "pivotColumns": null,
        "xColumns": null,
        "yColumns": null
       },
       "removedWidgets": [],
       "schema": [
        {
         "metadata": "{}",
         "name": "Month",
         "type": "\"string\""
        },
        {
         "metadata": "{}",
         "name": "Emp_count",
         "type": "\"integer\""
        },
        {
         "metadata": "{}",
         "name": "Production_unit",
         "type": "\"string\""
        },
        {
         "metadata": "{}",
         "name": "Expense",
         "type": "\"string\""
        }
       ],
       "type": "table"
      }
     },
     "output_type": "display_data"
    }
   ],
   "source": [
    "df=spark.read.format(\"csv\").options(inferSchema=True,header=True,sep=\",\").load(\"/FileStore/production_data_corrupt_1.csv\")\n",
    "display(df)"
   ]
  },
  {
   "cell_type": "code",
   "execution_count": 0,
   "metadata": {
    "application/vnd.databricks.v1+cell": {
     "cellMetadata": {
      "byteLimit": 2048000,
      "rowLimit": 10000
     },
     "inputWidgets": {},
     "nuid": "caeb1c98-497c-4745-8c93-a7b30e71681c",
     "showTitle": false,
     "tableResultSettingsMap": {},
     "title": ""
    }
   },
   "outputs": [],
   "source": [
    "from pyspark.sql.types import StructType,StructField,StringType,IntegerType\n",
    "df1=StructType([StructField(\"Month\",StringType(),True),StructField(\"Emp_count\",IntegerType(),True),StructField(\"Production_unit\",IntegerType(),True),StructField(\"Expense\",IntegerType(),True),StructField(\"_corrupt_record\",StringType(),True)])"
   ]
  },
  {
   "cell_type": "code",
   "execution_count": 0,
   "metadata": {
    "application/vnd.databricks.v1+cell": {
     "cellMetadata": {
      "byteLimit": 2048000,
      "rowLimit": 10000
     },
     "inputWidgets": {},
     "nuid": "6f8572f0-430a-4848-aeb2-87e44cd80419",
     "showTitle": false,
     "tableResultSettingsMap": {},
     "title": ""
    }
   },
   "outputs": [
    {
     "output_type": "display_data",
     "data": {
      "text/html": [
       "<style scoped>\n",
       "  .table-result-container {\n",
       "    max-height: 300px;\n",
       "    overflow: auto;\n",
       "  }\n",
       "  table, th, td {\n",
       "    border: 1px solid black;\n",
       "    border-collapse: collapse;\n",
       "  }\n",
       "  th, td {\n",
       "    padding: 5px;\n",
       "  }\n",
       "  th {\n",
       "    text-align: left;\n",
       "  }\n",
       "</style><div class='table-result-container'><table class='table-result'><thead style='background-color: white'><tr><th>Month</th><th>Emp_count</th><th>Production_unit</th><th>Expense</th><th>_corrupt_record</th></tr></thead><tbody><tr><td>JAN</td><td>340</td><td>2000</td><td>30</td><td>null</td></tr><tr><td>FEB</td><td>318</td><td>2500</td><td>29</td><td>null</td></tr><tr><td>MAR</td><td>362</td><td>1500</td><td>32</td><td>null</td></tr><tr><td>APR</td><td>348</td><td>3000</td><td>26</td><td>null</td></tr><tr><td>MAY</td><td>363</td><td>2200</td><td>null</td><td>MAY,363,2200,\"35,test_msg\"</td></tr><tr><td>JUN</td><td>435</td><td>3300</td><td>27</td><td>null</td></tr><tr><td>JUL</td><td>491</td><td>1600</td><td>23</td><td>null</td></tr><tr><td>AUG</td><td>505</td><td>null</td><td>33</td><td>AUG,505,Thousand,33</td></tr><tr><td>SEP</td><td>404</td><td>3500</td><td>36</td><td>null</td></tr><tr><td>OCT</td><td>359</td><td>2900</td><td>28</td><td>null</td></tr><tr><td>NOV</td><td>310</td><td>4000</td><td>25</td><td>null</td></tr><tr><td>DEC</td><td>337</td><td>3400</td><td>31</td><td>null</td></tr></tbody></table></div>"
      ]
     },
     "metadata": {
      "application/vnd.databricks.v1+output": {
       "addedWidgets": {},
       "aggData": [],
       "aggError": "",
       "aggOverflow": false,
       "aggSchema": [],
       "aggSeriesLimitReached": false,
       "aggType": "",
       "arguments": {},
       "columnCustomDisplayInfos": {},
       "data": [
        [
         "JAN",
         340,
         2000,
         30,
         null
        ],
        [
         "FEB",
         318,
         2500,
         29,
         null
        ],
        [
         "MAR",
         362,
         1500,
         32,
         null
        ],
        [
         "APR",
         348,
         3000,
         26,
         null
        ],
        [
         "MAY",
         363,
         2200,
         null,
         "MAY,363,2200,\"35,test_msg\""
        ],
        [
         "JUN",
         435,
         3300,
         27,
         null
        ],
        [
         "JUL",
         491,
         1600,
         23,
         null
        ],
        [
         "AUG",
         505,
         null,
         33,
         "AUG,505,Thousand,33"
        ],
        [
         "SEP",
         404,
         3500,
         36,
         null
        ],
        [
         "OCT",
         359,
         2900,
         28,
         null
        ],
        [
         "NOV",
         310,
         4000,
         25,
         null
        ],
        [
         "DEC",
         337,
         3400,
         31,
         null
        ]
       ],
       "datasetInfos": [],
       "dbfsResultPath": null,
       "isJsonSchema": true,
       "metadata": {},
       "overflow": false,
       "plotOptions": {
        "customPlotOptions": {},
        "displayType": "table",
        "pivotAggregation": null,
        "pivotColumns": null,
        "xColumns": null,
        "yColumns": null
       },
       "removedWidgets": [],
       "schema": [
        {
         "metadata": "{}",
         "name": "Month",
         "type": "\"string\""
        },
        {
         "metadata": "{}",
         "name": "Emp_count",
         "type": "\"integer\""
        },
        {
         "metadata": "{}",
         "name": "Production_unit",
         "type": "\"integer\""
        },
        {
         "metadata": "{}",
         "name": "Expense",
         "type": "\"integer\""
        },
        {
         "metadata": "{}",
         "name": "_corrupt_record",
         "type": "\"string\""
        }
       ],
       "type": "table"
      }
     },
     "output_type": "display_data"
    }
   ],
   "source": [
    "df=spark.read.format(\"csv\").option(\"mode\",\"permissive\").option(\"header\",True).schema(df1).load(\"/FileStore/production_data_corrupt_1.csv\")\n",
    "# df=spark.read.format(\"csv\").option(\"mode\",\"dropmalformed\").option(\"header\",True).schema(df1).load(\"/FileStore/production_data_corrupt_1.csv\")\n",
    "# df=spark.read.format(\"csv\").option(\"mode\",\"failfast\").option(\"header\",True).schema(df1).load(\"/FileStore/production_data_corrupt_1.csv\")\n",
    "display(df)"
   ]
  },
  {
   "cell_type": "code",
   "execution_count": 0,
   "metadata": {
    "application/vnd.databricks.v1+cell": {
     "cellMetadata": {},
     "inputWidgets": {},
     "nuid": "5d292d4e-0c3f-4f89-b473-f601e5e80311",
     "showTitle": false,
     "tableResultSettingsMap": {},
     "title": ""
    }
   },
   "outputs": [],
   "source": []
  }
 ],
 "metadata": {
  "application/vnd.databricks.v1+notebook": {
   "computePreferences": null,
   "dashboards": [],
   "environmentMetadata": null,
   "language": "python",
   "notebookMetadata": {
    "pythonIndentUnit": 4
   },
   "notebookName": "01. practice_1 databricks",
   "widgets": {
    "name": {
     "currentValue": "",
     "nuid": "8332c549-8c6c-4ad0-97e2-c5d297a8e73b",
     "typedWidgetInfo": null,
     "widgetInfo": {
      "widgetType": "text",
      "defaultValue": "",
      "label": null,
      "name": "name",
      "options": {
       "widgetType": "text",
       "autoCreated": null,
       "validationRegex": null
      }
     }
    }
   }
  }
 },
 "nbformat": 4,
 "nbformat_minor": 0
}
